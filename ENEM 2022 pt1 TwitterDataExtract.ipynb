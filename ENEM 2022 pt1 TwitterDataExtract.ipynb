{
 "cells": [
  {
   "cell_type": "markdown",
   "id": "e1545337",
   "metadata": {},
   "source": [
    "# What was being said on Twitter on the April 2022 about ENEM Brazil"
   ]
  },
  {
   "cell_type": "markdown",
   "id": "a69e3c6a",
   "metadata": {},
   "source": [
    "#### Check ENEM 2022 pt 2 for the Word Cloud Build "
   ]
  },
  {
   "cell_type": "code",
   "execution_count": 1,
   "id": "7e41072a",
   "metadata": {},
   "outputs": [],
   "source": [
    "import pandas as pd"
   ]
  },
  {
   "cell_type": "code",
   "execution_count": 2,
   "id": "25d01b08",
   "metadata": {},
   "outputs": [],
   "source": [
    "with open('twitter_tk.txt','r') as tfile:\n",
    "    consumer_key = tfile.readline().strip('\\n')\n",
    "    consumer_secret = tfile.readline().strip('\\n')\n",
    "    access_token = tfile.readline().strip('\\n')\n",
    "    access_token_secret = tfile.readline().strip('\\n')\n",
    "    bearer_token = tfile.readline().strip('\\n')"
   ]
  },
  {
   "cell_type": "code",
   "execution_count": 3,
   "id": "28b04ce1",
   "metadata": {},
   "outputs": [],
   "source": [
    "# From here I could not follow the original proejct track So I used the one shared on:\n",
    "# https://towardsdatascience.com/an-extensive-guide-to-collecting-tweets-from-twitter-api-v2-for-academic-research-using-python-3-518fcb71df2a\n",
    "\n",
    "# For sending GET requests from the API\n",
    "import requests\n",
    "# For saving access tokens and for file management when creating and adding to the dataset\n",
    "import os\n",
    "# For dealing with json responses we receive from the API\n",
    "import json\n",
    "# For displaying the data after\n",
    "import pandas as pd\n",
    "import matplotlib\n",
    "import matplotlib.pyplot as plt\n",
    "# For saving the response data in CSV format\n",
    "import csv\n",
    "# For parsing the dates received from twitter in readable formats\n",
    "from datetime import datetime,timedelta,timezone\n",
    "import dateutil.parser\n",
    "import unicodedata\n",
    "#To add wait time between requests\n",
    "import time"
   ]
  },
  {
   "cell_type": "code",
   "execution_count": 4,
   "id": "f5e01676",
   "metadata": {},
   "outputs": [],
   "source": [
    "dm7 = datetime.now(timezone.utc) - timedelta(-7)\n",
    "dm1 = datetime.now(timezone.utc) - timedelta(-1)\n",
    "start_time = dm7.astimezone().isoformat('T')[:-21]+'00:00.000Z'\n",
    "end_time = dm1.astimezone().isoformat('T')[:-21]+'00:00.000Z'"
   ]
  },
  {
   "cell_type": "code",
   "execution_count": 5,
   "id": "1430ebf1",
   "metadata": {},
   "outputs": [
    {
     "data": {
      "text/plain": [
       "'2022-04-25T00:00.000Z'"
      ]
     },
     "execution_count": 5,
     "metadata": {},
     "output_type": "execute_result"
    }
   ],
   "source": [
    "start_time"
   ]
  },
  {
   "cell_type": "code",
   "execution_count": 6,
   "id": "7f41697b",
   "metadata": {},
   "outputs": [],
   "source": [
    "os.environ['BEARER_TOKEN'] = bearer_token"
   ]
  },
  {
   "cell_type": "code",
   "execution_count": 7,
   "id": "f48279a2",
   "metadata": {},
   "outputs": [],
   "source": [
    "def auth():\n",
    "    return os.getenv('BEARER_TOKEN')\n",
    "\n",
    "def create_headers(bearer_token):\n",
    "    headers = {\"Authorization\": \"Bearer {}\".format(bearer_token)}\n",
    "    return headers\n",
    "\n",
    "def create_url(keyword, start_date, end_date, max_results = 10):\n",
    "    \n",
    "    search_url = \"https://api.twitter.com/2/tweets/search/recent\" #Change to the endpoint you want to collect data from\n",
    "\n",
    "    #change params based on the endpoint you are using\n",
    "    query_params = {'query': keyword,\n",
    "                    'start_time': start_date,\n",
    "                    'end_time': end_date,\n",
    "                    'max_results': max_results,\n",
    "                    'expansions': 'geo.place_id',\n",
    "                    'tweet.fields': 'id,text,in_reply_to_user_id,geo,conversation_id,created_at,public_metrics,referenced_tweets',\n",
    "                    'user.fields': 'id,name,username,created_at,description,public_metrics,verified',\n",
    "                    'next_token': {}}\n",
    "    return (search_url, query_params)\n",
    "\n",
    "def connect_to_endpoint(url, headers, params, next_token = None):\n",
    "    params['next_token'] = next_token   #params object received from create_url function\n",
    "    response = requests.request(\"GET\", url, headers = headers, params = params)\n",
    "    print(\"Endpoint Response Code: \" + str(response.status_code))\n",
    "    if response.status_code != 200:\n",
    "        raise Exception(response.status_code, response.text)\n",
    "    return response.json()\n",
    "\n",
    "bearer_token = auth()\n",
    "headers = create_headers(bearer_token)\n",
    "keyword = \"#ENEM\"\n",
    "dm7 = datetime.now(timezone.utc) - timedelta(6)\n",
    "dm1 = datetime.now(timezone.utc) - timedelta(1)\n",
    "start_time = dm7.astimezone().isoformat('T')[:-21]+'00:00:00.000Z'\n",
    "end_time = dm1.astimezone().isoformat('T')[:-21]+'00:00:00.000Z'\n",
    "max_results = 100"
   ]
  },
  {
   "cell_type": "code",
   "execution_count": 8,
   "id": "31633d47",
   "metadata": {},
   "outputs": [],
   "source": [
    "def append_to_csv(json_response, fileName):\n",
    "\n",
    "    #A counter variable\n",
    "    counter = 0\n",
    "\n",
    "    #Open OR create the target CSV file\n",
    "    csvFile = open(fileName, \"a\", newline=\"\", encoding='utf-8')\n",
    "    csvWriter = csv.writer(csvFile)\n",
    "\n",
    "    #Loop through each tweet\n",
    "    for tweet in json_response['data']:\n",
    "        \n",
    "        # We will create a variable for each since some of the keys might not exist for some tweets\n",
    "        # So we will account for that\n",
    "\n",
    "        # 2. Time created\n",
    "        created_at = dateutil.parser.parse(tweet['created_at'])\n",
    "\n",
    "        # 3. Geolocation\n",
    "        if ('geo' in tweet):   \n",
    "            geo = tweet['geo']['place_id']\n",
    "        else:\n",
    "            geo = \" \"\n",
    "\n",
    "        # 4. Tweet ID\n",
    "        tweet_id = tweet['id']\n",
    "\n",
    "        # 6. Tweet metrics\n",
    "        retweet_count = tweet['public_metrics']['retweet_count']\n",
    "        reply_count = tweet['public_metrics']['reply_count']\n",
    "        like_count = tweet['public_metrics']['like_count']\n",
    "        quote_count = tweet['public_metrics']['quote_count']\n",
    "\n",
    "        # 8. Tweet text\n",
    "        text = tweet['text']\n",
    "        \n",
    "        # Assemble all data in a list\n",
    "        res = [created_at, geo, tweet_id, like_count, quote_count, reply_count, retweet_count, text]\n",
    "        \n",
    "        # Append the result to the CSV file\n",
    "        csvWriter.writerow(res)\n",
    "        counter += 1\n",
    "\n",
    "    # When done, close the CSV file\n",
    "    csvFile.close()\n",
    "\n",
    "    # Print the number of tweets for this iteration\n",
    "    print(\"# of Tweets added from this response: \", counter)"
   ]
  },
  {
   "cell_type": "code",
   "execution_count": 9,
   "id": "bf481ce5",
   "metadata": {},
   "outputs": [
    {
     "name": "stdout",
     "output_type": "stream",
     "text": [
      "-------------------\n",
      "Token:  None\n",
      "Endpoint Response Code: 200\n",
      "Next Token:  b26v89c19zqg8o3fpytmpnworpxvayrt6wvuqd9hbq3r1\n",
      "# of Tweets added from this response:  100\n",
      "Total # of Tweets added:  100\n",
      "-------------------\n"
     ]
    }
   ],
   "source": [
    "count = 0 # Counting tweets per time period\n",
    "max_count = 100 # Max tweets per time period\n",
    "flag = True\n",
    "next_token = None\n",
    "total_tweets= 0\n",
    "#Check if flag is true\n",
    "while flag:\n",
    "# Check if max_count reached\n",
    "    if count >= max_count:\n",
    "        break\n",
    "    print(\"-------------------\")\n",
    "    print(\"Token: \", next_token)\n",
    "    url = create_url(keyword, start_time,end_time, max_results)\n",
    "    json_response = connect_to_endpoint(url[0], headers, url[1], next_token)\n",
    "    result_count = json_response['meta']['result_count']\n",
    "\n",
    "    if 'next_token' in json_response['meta']:\n",
    "        # Save the token to use for next call\n",
    "        next_token = json_response['meta']['next_token']\n",
    "        print(\"Next Token: \", next_token)\n",
    "        if result_count is not None and result_count > 0 and next_token is not None:\n",
    "            append_to_csv(json_response, \"data.csv\")\n",
    "            count += result_count\n",
    "            total_tweets += result_count\n",
    "            print(\"Total # of Tweets added: \", total_tweets)\n",
    "            print(\"-------------------\")\n",
    "            time.sleep(5)                \n",
    "        # If no next token exists\n",
    "    else:\n",
    "        if result_count is not None and result_count > 0:\n",
    "            print(\"-------------------\")\n",
    "            append_to_csv(json_response, \"data.csv\")\n",
    "            count += result_count\n",
    "            total_tweets += result_count\n",
    "            print(\"Total # of Tweets added: \", total_tweets)\n",
    "            print(\"-------------------\")\n",
    "            time.sleep(5)\n",
    "            \n",
    "        #Since this is the final request, turn flag to false to move to the next time period.\n",
    "        flag = False\n",
    "        next_token = None"
   ]
  },
  {
   "cell_type": "code",
   "execution_count": 10,
   "id": "7e6de56b",
   "metadata": {},
   "outputs": [],
   "source": [
    "cols = [\"created_at\", 'geo',\"tweet_id\", \"like_count\", \"quote_count\", \"reply_count\", \"retweet_count\", \"text\"]\n",
    "enem_tw = pd.read_csv('data.csv',names = cols)"
   ]
  },
  {
   "cell_type": "code",
   "execution_count": 18,
   "id": "13a4be4c",
   "metadata": {},
   "outputs": [
    {
     "data": {
      "text/html": [
       "<div>\n",
       "<style scoped>\n",
       "    .dataframe tbody tr th:only-of-type {\n",
       "        vertical-align: middle;\n",
       "    }\n",
       "\n",
       "    .dataframe tbody tr th {\n",
       "        vertical-align: top;\n",
       "    }\n",
       "\n",
       "    .dataframe thead th {\n",
       "        text-align: right;\n",
       "    }\n",
       "</style>\n",
       "<table border=\"1\" class=\"dataframe\">\n",
       "  <thead>\n",
       "    <tr style=\"text-align: right;\">\n",
       "      <th></th>\n",
       "      <th>created_at</th>\n",
       "      <th>geo</th>\n",
       "      <th>tweet_id</th>\n",
       "      <th>like_count</th>\n",
       "      <th>quote_count</th>\n",
       "      <th>reply_count</th>\n",
       "      <th>retweet_count</th>\n",
       "      <th>text</th>\n",
       "    </tr>\n",
       "  </thead>\n",
       "  <tbody>\n",
       "    <tr>\n",
       "      <th>393</th>\n",
       "      <td>2022-04-15 11:42:19+00:00</td>\n",
       "      <td></td>\n",
       "      <td>1514932125144956929</td>\n",
       "      <td>0</td>\n",
       "      <td>0</td>\n",
       "      <td>0</td>\n",
       "      <td>0</td>\n",
       "      <td>#enem a página está fora do ar?</td>\n",
       "    </tr>\n",
       "    <tr>\n",
       "      <th>394</th>\n",
       "      <td>2022-04-15 11:36:58+00:00</td>\n",
       "      <td></td>\n",
       "      <td>1514930779922616326</td>\n",
       "      <td>0</td>\n",
       "      <td>0</td>\n",
       "      <td>0</td>\n",
       "      <td>0</td>\n",
       "      <td>Enem 2022: candidatos devem pedir isenção da t...</td>\n",
       "    </tr>\n",
       "    <tr>\n",
       "      <th>395</th>\n",
       "      <td>2022-04-15 11:26:47+00:00</td>\n",
       "      <td></td>\n",
       "      <td>1514928218264027141</td>\n",
       "      <td>0</td>\n",
       "      <td>0</td>\n",
       "      <td>0</td>\n",
       "      <td>35</td>\n",
       "      <td>RT @MELdicina: ENEM: O QUE É, COMO FUNCIONA, C...</td>\n",
       "    </tr>\n",
       "    <tr>\n",
       "      <th>396</th>\n",
       "      <td>2022-04-15 11:04:13+00:00</td>\n",
       "      <td></td>\n",
       "      <td>1514922538761179140</td>\n",
       "      <td>1</td>\n",
       "      <td>0</td>\n",
       "      <td>0</td>\n",
       "      <td>0</td>\n",
       "      <td>👍 on @YouTube: Compartilha com quem vai fazer ...</td>\n",
       "    </tr>\n",
       "    <tr>\n",
       "      <th>397</th>\n",
       "      <td>2022-04-15 11:00:03+00:00</td>\n",
       "      <td></td>\n",
       "      <td>1514921488566022144</td>\n",
       "      <td>5</td>\n",
       "      <td>0</td>\n",
       "      <td>0</td>\n",
       "      <td>1</td>\n",
       "      <td>ATENÇÃO! O prazo de isenção de taxa para se in...</td>\n",
       "    </tr>\n",
       "  </tbody>\n",
       "</table>\n",
       "</div>"
      ],
      "text/plain": [
       "                    created_at geo             tweet_id  like_count  \\\n",
       "393  2022-04-15 11:42:19+00:00      1514932125144956929           0   \n",
       "394  2022-04-15 11:36:58+00:00      1514930779922616326           0   \n",
       "395  2022-04-15 11:26:47+00:00      1514928218264027141           0   \n",
       "396  2022-04-15 11:04:13+00:00      1514922538761179140           1   \n",
       "397  2022-04-15 11:00:03+00:00      1514921488566022144           5   \n",
       "\n",
       "     quote_count  reply_count  retweet_count  \\\n",
       "393            0            0              0   \n",
       "394            0            0              0   \n",
       "395            0            0             35   \n",
       "396            0            0              0   \n",
       "397            0            0              1   \n",
       "\n",
       "                                                  text  \n",
       "393                    #enem a página está fora do ar?  \n",
       "394  Enem 2022: candidatos devem pedir isenção da t...  \n",
       "395  RT @MELdicina: ENEM: O QUE É, COMO FUNCIONA, C...  \n",
       "396  👍 on @YouTube: Compartilha com quem vai fazer ...  \n",
       "397  ATENÇÃO! O prazo de isenção de taxa para se in...  "
      ]
     },
     "execution_count": 18,
     "metadata": {},
     "output_type": "execute_result"
    }
   ],
   "source": [
    "enem_tw.tail()"
   ]
  },
  {
   "cell_type": "code",
   "execution_count": 12,
   "id": "3236c60b",
   "metadata": {},
   "outputs": [],
   "source": [
    "#Filter Out the Tweets that are just Retweets from someone else\n",
    "enem_tw_wRT = enem_tw[~enem_tw['text'].str.contains(\"RT \")] "
   ]
  },
  {
   "cell_type": "code",
   "execution_count": 16,
   "id": "3495cdcc",
   "metadata": {},
   "outputs": [
    {
     "data": {
      "text/plain": [
       "(282, 8)"
      ]
     },
     "execution_count": 16,
     "metadata": {},
     "output_type": "execute_result"
    }
   ],
   "source": [
    "enem_tw_wRT.shape"
   ]
  },
  {
   "cell_type": "code",
   "execution_count": 6,
   "id": "82ad5733",
   "metadata": {},
   "outputs": [],
   "source": [
    "#Save just the text as CSV\n",
    "enem_tw_wRT['text'].to_csv('enem_tw_txt.csv')"
   ]
  }
 ],
 "metadata": {
  "kernelspec": {
   "display_name": "Python 3 (ipykernel)",
   "language": "python",
   "name": "python3"
  },
  "language_info": {
   "codemirror_mode": {
    "name": "ipython",
    "version": 3
   },
   "file_extension": ".py",
   "mimetype": "text/x-python",
   "name": "python",
   "nbconvert_exporter": "python",
   "pygments_lexer": "ipython3",
   "version": "3.9.7"
  }
 },
 "nbformat": 4,
 "nbformat_minor": 5
}
